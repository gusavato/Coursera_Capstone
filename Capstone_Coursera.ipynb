{
 "cells": [
  {
   "cell_type": "markdown",
   "id": "89ab0bee",
   "metadata": {},
   "source": [
    "# Notebook poyecto final CAPSTONE"
   ]
  },
  {
   "cell_type": "code",
   "execution_count": 1,
   "id": "ef0a64f4",
   "metadata": {},
   "outputs": [],
   "source": [
    "import pandas as pd\n",
    "import numpy as np\n"
   ]
  },
  {
   "cell_type": "code",
   "execution_count": 2,
   "id": "2b337fcb",
   "metadata": {},
   "outputs": [
    {
     "name": "stdout",
     "output_type": "stream",
     "text": [
      "Hola Proyecto Final del Curso\n"
     ]
    }
   ],
   "source": [
    "print('Hola Proyecto Final del Curso')"
   ]
  },
  {
   "cell_type": "code",
   "execution_count": null,
   "id": "0a981475",
   "metadata": {},
   "outputs": [],
   "source": []
  }
 ],
 "metadata": {
  "kernelspec": {
   "display_name": "Python 3 (ipykernel)",
   "language": "python",
   "name": "python3"
  },
  "language_info": {
   "codemirror_mode": {
    "name": "ipython",
    "version": 3
   },
   "file_extension": ".py",
   "mimetype": "text/x-python",
   "name": "python",
   "nbconvert_exporter": "python",
   "pygments_lexer": "ipython3",
   "version": "3.9.7"
  }
 },
 "nbformat": 4,
 "nbformat_minor": 5
}
