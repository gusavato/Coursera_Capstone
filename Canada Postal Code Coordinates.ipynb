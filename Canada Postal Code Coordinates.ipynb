{
 "cells": [
  {
   "cell_type": "code",
   "execution_count": 1,
   "id": "622386d0",
   "metadata": {},
   "outputs": [],
   "source": [
    "import pandas as pd"
   ]
  },
  {
   "cell_type": "markdown",
   "id": "0fdb8298",
   "metadata": {},
   "source": [
    "Leemos la tabla de codigos postales con pandas.read_html"
   ]
  },
  {
   "cell_type": "code",
   "execution_count": 2,
   "id": "45ea0361",
   "metadata": {},
   "outputs": [],
   "source": [
    "df = pd.read_html('https://en.wikipedia.org/wiki/List_of_postal_codes_of_Canada:_M')"
   ]
  },
  {
   "cell_type": "code",
   "execution_count": 3,
   "id": "93fb13b0",
   "metadata": {},
   "outputs": [],
   "source": [
    "df = df[0]"
   ]
  },
  {
   "cell_type": "code",
   "execution_count": 4,
   "id": "171deb04",
   "metadata": {
    "scrolled": false,
    "slideshow": {
     "slide_type": "-"
    }
   },
   "outputs": [
    {
     "data": {
      "text/html": [
       "<div>\n",
       "<style scoped>\n",
       "    .dataframe tbody tr th:only-of-type {\n",
       "        vertical-align: middle;\n",
       "    }\n",
       "\n",
       "    .dataframe tbody tr th {\n",
       "        vertical-align: top;\n",
       "    }\n",
       "\n",
       "    .dataframe thead th {\n",
       "        text-align: right;\n",
       "    }\n",
       "</style>\n",
       "<table border=\"1\" class=\"dataframe\">\n",
       "  <thead>\n",
       "    <tr style=\"text-align: right;\">\n",
       "      <th></th>\n",
       "      <th>0</th>\n",
       "      <th>1</th>\n",
       "      <th>2</th>\n",
       "      <th>3</th>\n",
       "      <th>4</th>\n",
       "      <th>5</th>\n",
       "      <th>6</th>\n",
       "      <th>7</th>\n",
       "      <th>8</th>\n",
       "    </tr>\n",
       "  </thead>\n",
       "  <tbody>\n",
       "    <tr>\n",
       "      <th>0</th>\n",
       "      <td>M1ANot assigned</td>\n",
       "      <td>M2ANot assigned</td>\n",
       "      <td>M3ANorth York(Parkwoods)</td>\n",
       "      <td>M4ANorth York(Victoria Village)</td>\n",
       "      <td>M5ADowntown Toronto(Regent Park / Harbourfront)</td>\n",
       "      <td>M6ANorth York(Lawrence Manor / Lawrence Heights)</td>\n",
       "      <td>M7AQueen's Park(Ontario Provincial Government)</td>\n",
       "      <td>M8ANot assigned</td>\n",
       "      <td>M9AEtobicoke(Islington Avenue)</td>\n",
       "    </tr>\n",
       "    <tr>\n",
       "      <th>1</th>\n",
       "      <td>M1BScarborough(Malvern / Rouge)</td>\n",
       "      <td>M2BNot assigned</td>\n",
       "      <td>M3BNorth York(Don Mills)North</td>\n",
       "      <td>M4BEast York(Parkview Hill / Woodbine Gardens)</td>\n",
       "      <td>M5BDowntown Toronto(Garden District, Ryerson)</td>\n",
       "      <td>M6BNorth York(Glencairn)</td>\n",
       "      <td>M7BNot assigned</td>\n",
       "      <td>M8BNot assigned</td>\n",
       "      <td>M9BEtobicoke(West Deane Park / Princess Garden...</td>\n",
       "    </tr>\n",
       "    <tr>\n",
       "      <th>2</th>\n",
       "      <td>M1CScarborough(Rouge Hill / Port Union / Highl...</td>\n",
       "      <td>M2CNot assigned</td>\n",
       "      <td>M3CNorth York(Don Mills)South(Flemingdon Park)</td>\n",
       "      <td>M4CEast York(Woodbine Heights)</td>\n",
       "      <td>M5CDowntown Toronto(St. James Town)</td>\n",
       "      <td>M6CYork(Humewood-Cedarvale)</td>\n",
       "      <td>M7CNot assigned</td>\n",
       "      <td>M8CNot assigned</td>\n",
       "      <td>M9CEtobicoke(Eringate / Bloordale Gardens / Ol...</td>\n",
       "    </tr>\n",
       "    <tr>\n",
       "      <th>3</th>\n",
       "      <td>M1EScarborough(Guildwood / Morningside / West ...</td>\n",
       "      <td>M2ENot assigned</td>\n",
       "      <td>M3ENot assigned</td>\n",
       "      <td>M4EEast Toronto(The Beaches)</td>\n",
       "      <td>M5EDowntown Toronto(Berczy Park)</td>\n",
       "      <td>M6EYork(Caledonia-Fairbanks)</td>\n",
       "      <td>M7ENot assigned</td>\n",
       "      <td>M8ENot assigned</td>\n",
       "      <td>M9ENot assigned</td>\n",
       "    </tr>\n",
       "    <tr>\n",
       "      <th>4</th>\n",
       "      <td>M1GScarborough(Woburn)</td>\n",
       "      <td>M2GNot assigned</td>\n",
       "      <td>M3GNot assigned</td>\n",
       "      <td>M4GEast York(Leaside)</td>\n",
       "      <td>M5GDowntown Toronto(Central Bay Street)</td>\n",
       "      <td>M6GDowntown Toronto(Christie)</td>\n",
       "      <td>M7GNot assigned</td>\n",
       "      <td>M8GNot assigned</td>\n",
       "      <td>M9GNot assigned</td>\n",
       "    </tr>\n",
       "  </tbody>\n",
       "</table>\n",
       "</div>"
      ],
      "text/plain": [
       "                                                   0                1  \\\n",
       "0                                    M1ANot assigned  M2ANot assigned   \n",
       "1                    M1BScarborough(Malvern / Rouge)  M2BNot assigned   \n",
       "2  M1CScarborough(Rouge Hill / Port Union / Highl...  M2CNot assigned   \n",
       "3  M1EScarborough(Guildwood / Morningside / West ...  M2ENot assigned   \n",
       "4                             M1GScarborough(Woburn)  M2GNot assigned   \n",
       "\n",
       "                                                2  \\\n",
       "0                        M3ANorth York(Parkwoods)   \n",
       "1                   M3BNorth York(Don Mills)North   \n",
       "2  M3CNorth York(Don Mills)South(Flemingdon Park)   \n",
       "3                                 M3ENot assigned   \n",
       "4                                 M3GNot assigned   \n",
       "\n",
       "                                                3  \\\n",
       "0                 M4ANorth York(Victoria Village)   \n",
       "1  M4BEast York(Parkview Hill / Woodbine Gardens)   \n",
       "2                  M4CEast York(Woodbine Heights)   \n",
       "3                    M4EEast Toronto(The Beaches)   \n",
       "4                           M4GEast York(Leaside)   \n",
       "\n",
       "                                                 4  \\\n",
       "0  M5ADowntown Toronto(Regent Park / Harbourfront)   \n",
       "1    M5BDowntown Toronto(Garden District, Ryerson)   \n",
       "2              M5CDowntown Toronto(St. James Town)   \n",
       "3                 M5EDowntown Toronto(Berczy Park)   \n",
       "4          M5GDowntown Toronto(Central Bay Street)   \n",
       "\n",
       "                                                  5  \\\n",
       "0  M6ANorth York(Lawrence Manor / Lawrence Heights)   \n",
       "1                          M6BNorth York(Glencairn)   \n",
       "2                       M6CYork(Humewood-Cedarvale)   \n",
       "3                      M6EYork(Caledonia-Fairbanks)   \n",
       "4                     M6GDowntown Toronto(Christie)   \n",
       "\n",
       "                                                6                7  \\\n",
       "0  M7AQueen's Park(Ontario Provincial Government)  M8ANot assigned   \n",
       "1                                 M7BNot assigned  M8BNot assigned   \n",
       "2                                 M7CNot assigned  M8CNot assigned   \n",
       "3                                 M7ENot assigned  M8ENot assigned   \n",
       "4                                 M7GNot assigned  M8GNot assigned   \n",
       "\n",
       "                                                   8  \n",
       "0                     M9AEtobicoke(Islington Avenue)  \n",
       "1  M9BEtobicoke(West Deane Park / Princess Garden...  \n",
       "2  M9CEtobicoke(Eringate / Bloordale Gardens / Ol...  \n",
       "3                                    M9ENot assigned  \n",
       "4                                    M9GNot assigned  "
      ]
     },
     "execution_count": 4,
     "metadata": {},
     "output_type": "execute_result"
    }
   ],
   "source": [
    "df.head()"
   ]
  },
  {
   "cell_type": "markdown",
   "id": "b619b8b2",
   "metadata": {},
   "source": [
    "Pasamos los valores de todos los códigos postales a una lista"
   ]
  },
  {
   "cell_type": "code",
   "execution_count": 5,
   "id": "8e5f195b",
   "metadata": {},
   "outputs": [],
   "source": [
    "code_list = df.values.tolist()"
   ]
  },
  {
   "cell_type": "markdown",
   "id": "4ddca033",
   "metadata": {},
   "source": [
    "Recorremos todos los valores de la lista code_list y guardamos únicamente los CP que estén asignados:\n",
    "\n",
    "    - 3 primeros caracteres pertenecen al CP\n",
    "    - Los siguientes caracteres hasta el caracter '(', definen el municipio\n",
    "    - El resto del texto es el vecindario"
   ]
  },
  {
   "cell_type": "code",
   "execution_count": 6,
   "id": "2744705a",
   "metadata": {},
   "outputs": [],
   "source": [
    "postal_code =[]\n",
    "borough = []\n",
    "nb = []\n",
    "for i in code_list:\n",
    "    for j in i:\n",
    "        if j[3:] == 'Not assigned':\n",
    "            pass\n",
    "        else:\n",
    "            postal_code.append(j[0:3])\n",
    "            sep = j[3:].split('(')\n",
    "            borough.append(sep[0])\n",
    "            nb.append(sep[1].split(')')[0])\n",
    "data = {'Postal_Code':postal_code,'Borough':borough,'Neighborhood':nb}"
   ]
  },
  {
   "cell_type": "markdown",
   "id": "b9c89971",
   "metadata": {},
   "source": [
    "Creamos el Dataframe con toda la información recopilada"
   ]
  },
  {
   "cell_type": "code",
   "execution_count": 7,
   "id": "683a415f",
   "metadata": {},
   "outputs": [
    {
     "data": {
      "text/html": [
       "<div>\n",
       "<style scoped>\n",
       "    .dataframe tbody tr th:only-of-type {\n",
       "        vertical-align: middle;\n",
       "    }\n",
       "\n",
       "    .dataframe tbody tr th {\n",
       "        vertical-align: top;\n",
       "    }\n",
       "\n",
       "    .dataframe thead th {\n",
       "        text-align: right;\n",
       "    }\n",
       "</style>\n",
       "<table border=\"1\" class=\"dataframe\">\n",
       "  <thead>\n",
       "    <tr style=\"text-align: right;\">\n",
       "      <th></th>\n",
       "      <th>Postal_Code</th>\n",
       "      <th>Borough</th>\n",
       "      <th>Neighborhood</th>\n",
       "    </tr>\n",
       "  </thead>\n",
       "  <tbody>\n",
       "    <tr>\n",
       "      <th>0</th>\n",
       "      <td>M3A</td>\n",
       "      <td>North York</td>\n",
       "      <td>Parkwoods</td>\n",
       "    </tr>\n",
       "    <tr>\n",
       "      <th>1</th>\n",
       "      <td>M4A</td>\n",
       "      <td>North York</td>\n",
       "      <td>Victoria Village</td>\n",
       "    </tr>\n",
       "    <tr>\n",
       "      <th>2</th>\n",
       "      <td>M5A</td>\n",
       "      <td>Downtown Toronto</td>\n",
       "      <td>Regent Park / Harbourfront</td>\n",
       "    </tr>\n",
       "    <tr>\n",
       "      <th>3</th>\n",
       "      <td>M6A</td>\n",
       "      <td>North York</td>\n",
       "      <td>Lawrence Manor / Lawrence Heights</td>\n",
       "    </tr>\n",
       "    <tr>\n",
       "      <th>4</th>\n",
       "      <td>M7A</td>\n",
       "      <td>Queen's Park</td>\n",
       "      <td>Ontario Provincial Government</td>\n",
       "    </tr>\n",
       "  </tbody>\n",
       "</table>\n",
       "</div>"
      ],
      "text/plain": [
       "  Postal_Code           Borough                       Neighborhood\n",
       "0         M3A        North York                          Parkwoods\n",
       "1         M4A        North York                   Victoria Village\n",
       "2         M5A  Downtown Toronto         Regent Park / Harbourfront\n",
       "3         M6A        North York  Lawrence Manor / Lawrence Heights\n",
       "4         M7A      Queen's Park      Ontario Provincial Government"
      ]
     },
     "execution_count": 7,
     "metadata": {},
     "output_type": "execute_result"
    }
   ],
   "source": [
    "df_cp_can = pd.DataFrame(data)\n",
    "df_cp_can.head()"
   ]
  },
  {
   "cell_type": "code",
   "execution_count": 8,
   "id": "164baa3e",
   "metadata": {},
   "outputs": [
    {
     "data": {
      "text/plain": [
       "(103, 3)"
      ]
     },
     "execution_count": 8,
     "metadata": {},
     "output_type": "execute_result"
    }
   ],
   "source": [
    "df_cp_can.shape"
   ]
  },
  {
   "cell_type": "markdown",
   "id": "3ed0cdcd",
   "metadata": {},
   "source": [
    "Leemos el archivo .csv donde se guardan todas las latitudes y longitudes de los CP de Canada"
   ]
  },
  {
   "cell_type": "code",
   "execution_count": 18,
   "id": "9789f583",
   "metadata": {},
   "outputs": [],
   "source": [
    "df_geo = pd.read_csv('Geospatial_Coordinates.csv')"
   ]
  },
  {
   "cell_type": "code",
   "execution_count": 10,
   "id": "621159f0",
   "metadata": {},
   "outputs": [
    {
     "data": {
      "text/html": [
       "<div>\n",
       "<style scoped>\n",
       "    .dataframe tbody tr th:only-of-type {\n",
       "        vertical-align: middle;\n",
       "    }\n",
       "\n",
       "    .dataframe tbody tr th {\n",
       "        vertical-align: top;\n",
       "    }\n",
       "\n",
       "    .dataframe thead th {\n",
       "        text-align: right;\n",
       "    }\n",
       "</style>\n",
       "<table border=\"1\" class=\"dataframe\">\n",
       "  <thead>\n",
       "    <tr style=\"text-align: right;\">\n",
       "      <th></th>\n",
       "      <th>Postal Code</th>\n",
       "      <th>Latitude</th>\n",
       "      <th>Longitude</th>\n",
       "    </tr>\n",
       "  </thead>\n",
       "  <tbody>\n",
       "    <tr>\n",
       "      <th>0</th>\n",
       "      <td>M1B</td>\n",
       "      <td>43.806686</td>\n",
       "      <td>-79.194353</td>\n",
       "    </tr>\n",
       "    <tr>\n",
       "      <th>1</th>\n",
       "      <td>M1C</td>\n",
       "      <td>43.784535</td>\n",
       "      <td>-79.160497</td>\n",
       "    </tr>\n",
       "    <tr>\n",
       "      <th>2</th>\n",
       "      <td>M1E</td>\n",
       "      <td>43.763573</td>\n",
       "      <td>-79.188711</td>\n",
       "    </tr>\n",
       "    <tr>\n",
       "      <th>3</th>\n",
       "      <td>M1G</td>\n",
       "      <td>43.770992</td>\n",
       "      <td>-79.216917</td>\n",
       "    </tr>\n",
       "    <tr>\n",
       "      <th>4</th>\n",
       "      <td>M1H</td>\n",
       "      <td>43.773136</td>\n",
       "      <td>-79.239476</td>\n",
       "    </tr>\n",
       "  </tbody>\n",
       "</table>\n",
       "</div>"
      ],
      "text/plain": [
       "  Postal Code   Latitude  Longitude\n",
       "0         M1B  43.806686 -79.194353\n",
       "1         M1C  43.784535 -79.160497\n",
       "2         M1E  43.763573 -79.188711\n",
       "3         M1G  43.770992 -79.216917\n",
       "4         M1H  43.773136 -79.239476"
      ]
     },
     "execution_count": 10,
     "metadata": {},
     "output_type": "execute_result"
    }
   ],
   "source": [
    "df_geo.head()"
   ]
  },
  {
   "cell_type": "markdown",
   "id": "d5e4eabb",
   "metadata": {},
   "source": [
    "Unimos los DataFrame de los CP's con el de los Coordenadas, usando el método merge de Pandas"
   ]
  },
  {
   "cell_type": "code",
   "execution_count": 19,
   "id": "a0c4e88d",
   "metadata": {},
   "outputs": [],
   "source": [
    "df_cp_geo = pd.merge(left=df_cp_can,\n",
    "                     right=df_geo,\n",
    "                     how='left',\n",
    "                     left_on='Postal_Code',\n",
    "                     right_on='Postal Code')"
   ]
  },
  {
   "cell_type": "code",
   "execution_count": 20,
   "id": "2e3a9d62",
   "metadata": {},
   "outputs": [
    {
     "data": {
      "text/html": [
       "<div>\n",
       "<style scoped>\n",
       "    .dataframe tbody tr th:only-of-type {\n",
       "        vertical-align: middle;\n",
       "    }\n",
       "\n",
       "    .dataframe tbody tr th {\n",
       "        vertical-align: top;\n",
       "    }\n",
       "\n",
       "    .dataframe thead th {\n",
       "        text-align: right;\n",
       "    }\n",
       "</style>\n",
       "<table border=\"1\" class=\"dataframe\">\n",
       "  <thead>\n",
       "    <tr style=\"text-align: right;\">\n",
       "      <th></th>\n",
       "      <th>Postal_Code</th>\n",
       "      <th>Borough</th>\n",
       "      <th>Neighborhood</th>\n",
       "      <th>Postal Code</th>\n",
       "      <th>Latitude</th>\n",
       "      <th>Longitude</th>\n",
       "    </tr>\n",
       "  </thead>\n",
       "  <tbody>\n",
       "    <tr>\n",
       "      <th>0</th>\n",
       "      <td>M3A</td>\n",
       "      <td>North York</td>\n",
       "      <td>Parkwoods</td>\n",
       "      <td>M3A</td>\n",
       "      <td>43.753259</td>\n",
       "      <td>-79.329656</td>\n",
       "    </tr>\n",
       "    <tr>\n",
       "      <th>1</th>\n",
       "      <td>M4A</td>\n",
       "      <td>North York</td>\n",
       "      <td>Victoria Village</td>\n",
       "      <td>M4A</td>\n",
       "      <td>43.725882</td>\n",
       "      <td>-79.315572</td>\n",
       "    </tr>\n",
       "    <tr>\n",
       "      <th>2</th>\n",
       "      <td>M5A</td>\n",
       "      <td>Downtown Toronto</td>\n",
       "      <td>Regent Park / Harbourfront</td>\n",
       "      <td>M5A</td>\n",
       "      <td>43.654260</td>\n",
       "      <td>-79.360636</td>\n",
       "    </tr>\n",
       "    <tr>\n",
       "      <th>3</th>\n",
       "      <td>M6A</td>\n",
       "      <td>North York</td>\n",
       "      <td>Lawrence Manor / Lawrence Heights</td>\n",
       "      <td>M6A</td>\n",
       "      <td>43.718518</td>\n",
       "      <td>-79.464763</td>\n",
       "    </tr>\n",
       "    <tr>\n",
       "      <th>4</th>\n",
       "      <td>M7A</td>\n",
       "      <td>Queen's Park</td>\n",
       "      <td>Ontario Provincial Government</td>\n",
       "      <td>M7A</td>\n",
       "      <td>43.662301</td>\n",
       "      <td>-79.389494</td>\n",
       "    </tr>\n",
       "  </tbody>\n",
       "</table>\n",
       "</div>"
      ],
      "text/plain": [
       "  Postal_Code           Borough                       Neighborhood  \\\n",
       "0         M3A        North York                          Parkwoods   \n",
       "1         M4A        North York                   Victoria Village   \n",
       "2         M5A  Downtown Toronto         Regent Park / Harbourfront   \n",
       "3         M6A        North York  Lawrence Manor / Lawrence Heights   \n",
       "4         M7A      Queen's Park      Ontario Provincial Government   \n",
       "\n",
       "  Postal Code   Latitude  Longitude  \n",
       "0         M3A  43.753259 -79.329656  \n",
       "1         M4A  43.725882 -79.315572  \n",
       "2         M5A  43.654260 -79.360636  \n",
       "3         M6A  43.718518 -79.464763  \n",
       "4         M7A  43.662301 -79.389494  "
      ]
     },
     "execution_count": 20,
     "metadata": {},
     "output_type": "execute_result"
    }
   ],
   "source": [
    "df_cp_geo.head()"
   ]
  },
  {
   "cell_type": "markdown",
   "id": "8d3ab33c",
   "metadata": {},
   "source": [
    "Eliminamos la columan duplicada de Postal Code"
   ]
  },
  {
   "cell_type": "code",
   "execution_count": 16,
   "id": "ca384e88",
   "metadata": {},
   "outputs": [],
   "source": [
    "df_cp_geo.drop(labels='Postal Code',\n",
    "               axis=1,\n",
    "               inplace=True)"
   ]
  },
  {
   "cell_type": "code",
   "execution_count": 17,
   "id": "159f5032",
   "metadata": {},
   "outputs": [
    {
     "data": {
      "text/html": [
       "<div>\n",
       "<style scoped>\n",
       "    .dataframe tbody tr th:only-of-type {\n",
       "        vertical-align: middle;\n",
       "    }\n",
       "\n",
       "    .dataframe tbody tr th {\n",
       "        vertical-align: top;\n",
       "    }\n",
       "\n",
       "    .dataframe thead th {\n",
       "        text-align: right;\n",
       "    }\n",
       "</style>\n",
       "<table border=\"1\" class=\"dataframe\">\n",
       "  <thead>\n",
       "    <tr style=\"text-align: right;\">\n",
       "      <th></th>\n",
       "      <th>Postal_Code</th>\n",
       "      <th>Borough</th>\n",
       "      <th>Neighborhood</th>\n",
       "      <th>Latitude</th>\n",
       "      <th>Longitude</th>\n",
       "    </tr>\n",
       "  </thead>\n",
       "  <tbody>\n",
       "    <tr>\n",
       "      <th>0</th>\n",
       "      <td>M3A</td>\n",
       "      <td>North York</td>\n",
       "      <td>Parkwoods</td>\n",
       "      <td>43.753259</td>\n",
       "      <td>-79.329656</td>\n",
       "    </tr>\n",
       "    <tr>\n",
       "      <th>1</th>\n",
       "      <td>M4A</td>\n",
       "      <td>North York</td>\n",
       "      <td>Victoria Village</td>\n",
       "      <td>43.725882</td>\n",
       "      <td>-79.315572</td>\n",
       "    </tr>\n",
       "    <tr>\n",
       "      <th>2</th>\n",
       "      <td>M5A</td>\n",
       "      <td>Downtown Toronto</td>\n",
       "      <td>Regent Park / Harbourfront</td>\n",
       "      <td>43.654260</td>\n",
       "      <td>-79.360636</td>\n",
       "    </tr>\n",
       "    <tr>\n",
       "      <th>3</th>\n",
       "      <td>M6A</td>\n",
       "      <td>North York</td>\n",
       "      <td>Lawrence Manor / Lawrence Heights</td>\n",
       "      <td>43.718518</td>\n",
       "      <td>-79.464763</td>\n",
       "    </tr>\n",
       "    <tr>\n",
       "      <th>4</th>\n",
       "      <td>M7A</td>\n",
       "      <td>Queen's Park</td>\n",
       "      <td>Ontario Provincial Government</td>\n",
       "      <td>43.662301</td>\n",
       "      <td>-79.389494</td>\n",
       "    </tr>\n",
       "  </tbody>\n",
       "</table>\n",
       "</div>"
      ],
      "text/plain": [
       "  Postal_Code           Borough                       Neighborhood   Latitude  \\\n",
       "0         M3A        North York                          Parkwoods  43.753259   \n",
       "1         M4A        North York                   Victoria Village  43.725882   \n",
       "2         M5A  Downtown Toronto         Regent Park / Harbourfront  43.654260   \n",
       "3         M6A        North York  Lawrence Manor / Lawrence Heights  43.718518   \n",
       "4         M7A      Queen's Park      Ontario Provincial Government  43.662301   \n",
       "\n",
       "   Longitude  \n",
       "0 -79.329656  \n",
       "1 -79.315572  \n",
       "2 -79.360636  \n",
       "3 -79.464763  \n",
       "4 -79.389494  "
      ]
     },
     "execution_count": 17,
     "metadata": {},
     "output_type": "execute_result"
    }
   ],
   "source": [
    "df_cp_geo.head()"
   ]
  },
  {
   "cell_type": "code",
   "execution_count": null,
   "id": "fc2a905b",
   "metadata": {},
   "outputs": [],
   "source": []
  }
 ],
 "metadata": {
  "celltoolbar": "Raw Cell Format",
  "kernelspec": {
   "display_name": "Python 3 (ipykernel)",
   "language": "python",
   "name": "python3"
  },
  "language_info": {
   "codemirror_mode": {
    "name": "ipython",
    "version": 3
   },
   "file_extension": ".py",
   "mimetype": "text/x-python",
   "name": "python",
   "nbconvert_exporter": "python",
   "pygments_lexer": "ipython3",
   "version": "3.9.7"
  }
 },
 "nbformat": 4,
 "nbformat_minor": 5
}
